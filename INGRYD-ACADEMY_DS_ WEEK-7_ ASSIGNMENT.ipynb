{
 "cells": [
  {
   "cell_type": "code",
   "execution_count": 7,
   "id": "666d0b3b",
   "metadata": {},
   "outputs": [
    {
     "name": "stdout",
     "output_type": "stream",
     "text": [
      "Statistical mean of the temperature = 35.04\n",
      "Statistical Mode of the temperature = 34\n",
      "Statistical Median of the temperature = 34.0\n",
      "Statistical range of the temperature = 53\n",
      "The Variance of the temperature = 146.51\n",
      "The Standard Deviation of the temperature = 12.10\n",
      "The Standard Mean of the temperature = 6.85\n"
     ]
    }
   ],
   "source": [
    "import statistics\n",
    "\n",
    "temp_rate = [23,34,23,45,36,33,24,36,37,33,34,33,34,32,76,23,34,23,45,36,33,24,36,37,33,34,33,34,32,76,23,34,\n",
    "             23,45,36,33,24,36,37,33,34,33,34,32,76,23,34,26]\n",
    "\n",
    "#statistical mean\n",
    "mean = statistics.mean(temp_rate)\n",
    "print(\"Statistical mean of the temperature =\",format(mean, \".2f\"))\n",
    "\n",
    "\n",
    "#statistical mode\n",
    "mode = statistics.mode(temp_rate)\n",
    "print(\"Statistical Mode of the temperature =\", mode)\n",
    "\n",
    "#statistical median\n",
    "median = statistics.median(temp_rate)\n",
    "print(\"Statistical Median of the temperature =\", median)\n",
    "\n",
    "      \n",
    "#statistical median\n",
    "range_temp = max(temp_rate) - min(temp_rate)\n",
    "print(\"Statistical range of the temperature =\", range_temp)\n",
    "\n",
    "\n",
    "#variance of the temperature\n",
    "variance = statistics.variance(temp_rate)\n",
    "print(\"The Variance of the temperature =\", format(variance, \".2f\"))\n",
    "\n",
    "\n",
    "#Standard Deviation variance of the temperature\n",
    "standard_deviation = statistics.stdev(temp_rate)\n",
    "print(\"The Standard Deviation of the temperature =\", format(standard_deviation ,\".2f\"))\n",
    "\n",
    "\n",
    "#Mean Deviaion of the temperature\n",
    "mean = statistics.mean(temp_rate)\n",
    "mean_deviation = statistics.mean(abs(x - mean) for x in temp_rate)\n",
    "print(\"The Standard Mean of the temperature =\", format(mean_deviation, \".2f\"))"
   ]
  },
  {
   "cell_type": "code",
   "execution_count": null,
   "id": "11efea80",
   "metadata": {},
   "outputs": [],
   "source": []
  }
 ],
 "metadata": {
  "kernelspec": {
   "display_name": "Python 3 (ipykernel)",
   "language": "python",
   "name": "python3"
  },
  "language_info": {
   "codemirror_mode": {
    "name": "ipython",
    "version": 3
   },
   "file_extension": ".py",
   "mimetype": "text/x-python",
   "name": "python",
   "nbconvert_exporter": "python",
   "pygments_lexer": "ipython3",
   "version": "3.11.3"
  }
 },
 "nbformat": 4,
 "nbformat_minor": 5
}
